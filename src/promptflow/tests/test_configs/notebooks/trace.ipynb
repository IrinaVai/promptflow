{
 "cells": [
  {
   "cell_type": "code",
   "execution_count": null,
   "metadata": {},
   "outputs": [],
   "source": [
    "# below is the expected experience, will expose this after we all full ready\n",
    "# import promptflow as pf\n",
    "from promptflow._trace._start_trace import start_trace"
   ]
  },
  {
   "cell_type": "code",
   "execution_count": null,
   "metadata": {},
   "outputs": [],
   "source": [
    "start_trace()"
   ]
  },
  {
   "cell_type": "markdown",
   "metadata": {},
   "source": [
    "Below is what is happening in our @trace decorator"
   ]
  },
  {
   "cell_type": "code",
   "execution_count": null,
   "metadata": {},
   "outputs": [],
   "source": [
    "import os\n",
    "\n",
    "from opentelemetry import trace\n",
    "from opentelemetry.trace.status import StatusCode\n",
    "\n",
    "from promptflow._constants import TRACE_SESSION_ID_ENV_VAR\n",
    "\n",
    "tracer = trace.get_tracer(__name__)\n",
    "# the span spec follows the contract in pull request:\n",
    "# https://github.com/microsoft/promptflow/pull/1835\n",
    "with tracer.start_as_current_span(\"hello\") as span:\n",
    "    span.set_status(StatusCode.OK)\n",
    "    span.set_attribute(\"framework\", \"promptflow\")\n",
    "    # Function/Tool/Flow/LLM/LangChain...\n",
    "    span.set_attribute(\"span_type\", \"Function\")\n",
    "    # The module_name.qual_name of the function\n",
    "    span.set_attribute(\"function\", \"promptflow.tools.template_rendering.render_template_jinja2\")\n",
    "    span.set_attribute(\"inputs\", '{\\n \"name\": \"world\"\\n}')\n",
    "    span.set_attribute(\"output\", '\"Hello world\"')\n",
    "    span.set_attribute(\"run.id\", \"<run-id>\")\n",
    "    span.set_attribute(\"run.line_id\", \"<run-line-id>\")\n",
    "    # temporary way to get session id\n",
    "    span.set_attribute(\"session_id\", os.getenv(TRACE_SESSION_ID_ENV_VAR))\n",
    "    # Test/Batch/etc.\n",
    "    span.set_attribute(\"run.mode\", \"Batch\")\n",
    "    span.set_attribute(\"context.user_agent\", \"promptflow/1.4.1\")\n"
   ]
  },
  {
   "cell_type": "code",
   "execution_count": null,
   "metadata": {},
   "outputs": [],
   "source": []
  }
 ],
 "metadata": {
  "kernelspec": {
   "display_name": "pf-ms",
   "language": "python",
   "name": "python3"
  },
  "language_info": {
   "codemirror_mode": {
    "name": "ipython",
    "version": 3
   },
   "file_extension": ".py",
   "mimetype": "text/x-python",
   "name": "python",
   "nbconvert_exporter": "python",
   "pygments_lexer": "ipython3",
   "version": "3.10.13"
  }
 },
 "nbformat": 4,
 "nbformat_minor": 2
}
